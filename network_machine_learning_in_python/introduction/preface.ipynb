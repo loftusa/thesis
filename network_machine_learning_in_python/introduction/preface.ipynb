{
 "cells": [
  {
   "cell_type": "markdown",
   "metadata": {},
   "source": [
    "# Front Matter"
   ]
  },
  {
   "cell_type": "markdown",
   "metadata": {},
   "source": [
    "## Abstract"
   ]
  },
  {
   "cell_type": "markdown",
   "metadata": {},
   "source": [
    "This thesis is essentially a general overview of spectral methods on networks, and how you can use tools from a network's eigenspace to understand and explain the network more deeply. Why are networks an interesting thing to learn about, and why should you care?\n",
    "\n",
    "Well, at some level, every aspect of reality seems to be made of interconnected parts. Atoms and molecules are connected to each other with chemical bonds. Your neurons connect to each other through synapses, and the different parts of your brain connect to each other through groups of neurons interacting with each other. At a larger level, you are interconnected with other humans through social networks, and our economy is a global, interconnected trade network. The Earth's food chain is an ecological network, and larger still, every object with mass in the universe is connected to every other object through a gravitational network.\n",
    "\n",
    "So if you can understand networks, you can understand a little something about everything!\n",
    "\n",
    "We'll cover the fundamentals of spectral methods with respect to network data science, focusing on developing intuition on networks as statistical objects, while paired with relevant Python code. By the end of this thesis, you will be able to utilize efficient and easy to use tools available for performing analyses on networks. You will also have a whole new range of statistical techniques in your toolbox, such as representations, theory, and algorithms for networks.\n",
    "\n",
    "We'll spend this thesis learning about network algorithms by showing how they're implemented in production-ready Python frameworks:\n",
    "- Numpy and Scipy are used for scientific programming. They give you access to array objects, which are the main way we'll represent networks computationally.\n",
    "- Scikit-Learn is very easy to use, yet it implements many Machine Learning algorithms efficiently, so it makes a great entry point for downstream analysis of networks.\n",
    "- Graspologic is an open-source Python package developed by Microsoft and the NeuroData lab at Johns Hopkins University which gives you utilities and algorithms for doing statistical analyses on network-valued data.\n",
    "\n",
    "The thesis favors a hands-on approach, growing an intuitive understanding of networks through concrete working examples and a bit of theory. While you can read this thesis without picking up your laptop, I highly recommend you experiment with the code examples available online as Jupyter notebooks at [http://docs.neurodata.io/graph-stats-book/index.html](http://docs.neurodata.io/graph-stats-book/index.html).\n",
    "\n",
    "**Primary Reader and Advisor**: Joshua Vogelstein  \n",
    "**Secondary Reader**: Avanti Athreya"
   ]
  },
  {
   "cell_type": "markdown",
   "metadata": {},
   "source": [
    "## Acknowledgements"
   ]
  },
  {
   "cell_type": "markdown",
   "metadata": {},
   "source": [
    "Big thanks to everybody who has been reading the thesis as I write and giving feedback. This list includes Dax Pryce, Ross Lawrence, Geoff Loftus, Alexandra McCoy, Olivia Taylor Peter Brown, Sambit Panda, Eric Bridgeford, Josh Vogelstein, and Ali Sad-Aldin. \n",
    "\n",
    "I am grateful to my advisor, Joshua Vogelstein, for his insights and strong feedback. The value he puts on clarity and simplicity in any mathematical model has been an enormous help throughout this process.\n",
    "\n",
    "I am also especially grateful to Eric Bridgeford, who has been giving me constant feedback throughout the writing process. I would be lost in a sea of papers without his help.\n",
    "\n",
    "Lastly, I'm grateful to my father, Geoffrey Loftus, for teaching me the value of rigor in science and for being a resoundingly positive role model throughout my life."
   ]
  },
  {
   "cell_type": "markdown",
   "metadata": {},
   "source": [
    "## **Dedication**\n",
    "\n",
    "This thesis is dedicated to my father, Geoffrey Loftus, for teaching me the value of rigor in science and for being a resoundingly positive role model throughout my life, and to my mother, Susan Loftus, for teaching me to never give up in the face of adversity."
   ]
  },
  {
   "cell_type": "markdown",
   "metadata": {},
   "source": [
    "## Contents"
   ]
  },
  {
   "cell_type": "markdown",
   "metadata": {},
   "source": [
    "**Abstract**  \n",
    "**Acknowledgements**  \n",
    "**List of Figures**  \n",
    "**Matrix Representations of Networks**\n",
    "  \n",
    "**Why Embed Networks?**  \n",
    "**Spectral Embedding Methods**  \n",
    "**Multiple-Network Representation Learning**  \n",
    "**Joint Representation Learning**  \n",
    "**Single-Network Representation Learning**  \n",
    "**Out-of-Sample Embedding**  \n",
    "**Anomaly Detection for Timeseries of Networks**  \n"
   ]
  },
  {
   "cell_type": "markdown",
   "metadata": {},
   "source": [
    "This thesis is organized into three parts. \n",
    "\n",
    "Part I, Foundations, gives you a brief overview of the kinds of things you'll be doing in this thesis, and shows you how to solve a network data science problem from start to finish. It covers the following topics:\n",
    "- What a network is and where you can find networks in the wild\n",
    "- All the reasons why you should care about studying networks\n",
    "- Examples of ways you could apply network data science to your own projects\n",
    "- An overview of the types of problems Network Machine Learning is good at dealing with\n",
    "- The main challenges you'd encounter if you explored Network Learning more deeply\n",
    "- Exploring a real network data science dataset, to get a broad understanding of what you might be able to learn.\n",
    "\n",
    "Part II, Representations, is all about how we can represent networks statistically, and what we can do with those representations. It covers the following topics:\n",
    "- Ways you can represent individual networks\n",
    "- Ways you can represent groups of networks\n",
    "- The various useful properties different types of networks have\n",
    "- Types of network representations and why they're useful\n",
    "- How to represent networks as a bunch of points in space\n",
    "- How to represent multiple networks\n",
    "- How to represent networks when you have extra information about your nodes\n",
    "\n",
    "Part III, Applications, is about using the representations from Part II to explore and exploit your networks. It covers the following topics:\n",
    "- Figuring out if communities in your networks are different from each other\n",
    "- Selecting a reasonable model to represent your data\n",
    "- Finding nodes, edges, or communities in your networks that are interesting\n",
    "- Finding time points which are anomalies in a network which is evolving over time\n",
    "- What to do when you have new data after you've already trained a network model\n",
    "- How hypothesis testing works on networks\n",
    "- Figuring out which nodes are the most similar in a pair of networks"
   ]
  },
  {
   "cell_type": "markdown",
   "metadata": {},
   "source": [
    "## List of Figures"
   ]
  },
  {
   "cell_type": "code",
   "execution_count": null,
   "metadata": {},
   "outputs": [],
   "source": []
  }
 ],
 "metadata": {
  "kernelspec": {
   "display_name": "Python 3",
   "language": "python",
   "name": "python3"
  },
  "language_info": {
   "codemirror_mode": {
    "name": "ipython",
    "version": 3
   },
   "file_extension": ".py",
   "mimetype": "text/x-python",
   "name": "python",
   "nbconvert_exporter": "python",
   "pygments_lexer": "ipython3",
   "version": "3.8.5"
  }
 },
 "nbformat": 4,
 "nbformat_minor": 4
}
